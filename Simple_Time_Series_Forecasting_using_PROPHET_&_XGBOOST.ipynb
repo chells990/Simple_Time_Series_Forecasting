{
 "cells": [
  {
   "cell_type": "code",
   "execution_count": 32,
   "id": "bcc77862",
   "metadata": {
    "id": "bcc77862"
   },
   "outputs": [],
   "source": [
    "import pandas as pd\n",
    "\n",
    "df = pd.read_csv('penjualan_mobil_toyota.csv')"
   ]
  },
  {
   "cell_type": "code",
   "execution_count": 33,
   "id": "eef50083",
   "metadata": {
    "id": "eef50083",
    "outputId": "2590b636-0dd3-4fc6-89c5-f3813937e3b6"
   },
   "outputs": [
    {
     "data": {
      "text/html": [
       "<div>\n",
       "<style scoped>\n",
       "    .dataframe tbody tr th:only-of-type {\n",
       "        vertical-align: middle;\n",
       "    }\n",
       "\n",
       "    .dataframe tbody tr th {\n",
       "        vertical-align: top;\n",
       "    }\n",
       "\n",
       "    .dataframe thead th {\n",
       "        text-align: right;\n",
       "    }\n",
       "</style>\n",
       "<table border=\"1\" class=\"dataframe\">\n",
       "  <thead>\n",
       "    <tr style=\"text-align: right;\">\n",
       "      <th></th>\n",
       "      <th>Bulan</th>\n",
       "      <th>Penjualan</th>\n",
       "    </tr>\n",
       "  </thead>\n",
       "  <tbody>\n",
       "    <tr>\n",
       "      <th>0</th>\n",
       "      <td>2011-01</td>\n",
       "      <td>27619</td>\n",
       "    </tr>\n",
       "    <tr>\n",
       "      <th>1</th>\n",
       "      <td>2011-02</td>\n",
       "      <td>25532</td>\n",
       "    </tr>\n",
       "    <tr>\n",
       "      <th>2</th>\n",
       "      <td>2011-03</td>\n",
       "      <td>32275</td>\n",
       "    </tr>\n",
       "    <tr>\n",
       "      <th>3</th>\n",
       "      <td>2011-04</td>\n",
       "      <td>21128</td>\n",
       "    </tr>\n",
       "    <tr>\n",
       "      <th>4</th>\n",
       "      <td>2011-05</td>\n",
       "      <td>19554</td>\n",
       "    </tr>\n",
       "    <tr>\n",
       "      <th>...</th>\n",
       "      <td>...</td>\n",
       "      <td>...</td>\n",
       "    </tr>\n",
       "    <tr>\n",
       "      <th>144</th>\n",
       "      <td>2023-01</td>\n",
       "      <td>28970</td>\n",
       "    </tr>\n",
       "    <tr>\n",
       "      <th>145</th>\n",
       "      <td>2023-02</td>\n",
       "      <td>27336</td>\n",
       "    </tr>\n",
       "    <tr>\n",
       "      <th>146</th>\n",
       "      <td>2023-03</td>\n",
       "      <td>29471</td>\n",
       "    </tr>\n",
       "    <tr>\n",
       "      <th>147</th>\n",
       "      <td>2023-04</td>\n",
       "      <td>21518</td>\n",
       "    </tr>\n",
       "    <tr>\n",
       "      <th>148</th>\n",
       "      <td>2023-05</td>\n",
       "      <td>28178</td>\n",
       "    </tr>\n",
       "  </tbody>\n",
       "</table>\n",
       "<p>149 rows × 2 columns</p>\n",
       "</div>"
      ],
      "text/plain": [
       "       Bulan  Penjualan\n",
       "0    2011-01      27619\n",
       "1    2011-02      25532\n",
       "2    2011-03      32275\n",
       "3    2011-04      21128\n",
       "4    2011-05      19554\n",
       "..       ...        ...\n",
       "144  2023-01      28970\n",
       "145  2023-02      27336\n",
       "146  2023-03      29471\n",
       "147  2023-04      21518\n",
       "148  2023-05      28178\n",
       "\n",
       "[149 rows x 2 columns]"
      ]
     },
     "execution_count": 33,
     "metadata": {},
     "output_type": "execute_result"
    }
   ],
   "source": [
    "df"
   ]
  },
  {
   "cell_type": "code",
   "execution_count": 34,
   "id": "70ed10d9",
   "metadata": {
    "id": "70ed10d9",
    "outputId": "3847f276-2acd-46f9-f711-f8fdf9954ab8"
   },
   "outputs": [
    {
     "data": {
      "text/plain": [
       "Bulan        0\n",
       "Penjualan    0\n",
       "dtype: int64"
      ]
     },
     "execution_count": 34,
     "metadata": {},
     "output_type": "execute_result"
    }
   ],
   "source": [
    "df.isna().sum()"
   ]
  },
  {
   "cell_type": "code",
   "execution_count": 35,
   "id": "8c555eab",
   "metadata": {
    "id": "8c555eab"
   },
   "outputs": [],
   "source": [
    "df.index = pd.to_datetime(df.Bulan, format='%Y-%m')\n",
    "df = df.drop(columns = ['Bulan'])"
   ]
  },
  {
   "cell_type": "code",
   "execution_count": 36,
   "id": "856c2ae2",
   "metadata": {
    "id": "856c2ae2",
    "outputId": "6f2ae456-bee4-4a75-fa69-86d36bf8b484"
   },
   "outputs": [
    {
     "data": {
      "text/html": [
       "<div>\n",
       "<style scoped>\n",
       "    .dataframe tbody tr th:only-of-type {\n",
       "        vertical-align: middle;\n",
       "    }\n",
       "\n",
       "    .dataframe tbody tr th {\n",
       "        vertical-align: top;\n",
       "    }\n",
       "\n",
       "    .dataframe thead th {\n",
       "        text-align: right;\n",
       "    }\n",
       "</style>\n",
       "<table border=\"1\" class=\"dataframe\">\n",
       "  <thead>\n",
       "    <tr style=\"text-align: right;\">\n",
       "      <th></th>\n",
       "      <th>Penjualan</th>\n",
       "    </tr>\n",
       "    <tr>\n",
       "      <th>Bulan</th>\n",
       "      <th></th>\n",
       "    </tr>\n",
       "  </thead>\n",
       "  <tbody>\n",
       "    <tr>\n",
       "      <th>2011-01-01</th>\n",
       "      <td>27619</td>\n",
       "    </tr>\n",
       "    <tr>\n",
       "      <th>2011-02-01</th>\n",
       "      <td>25532</td>\n",
       "    </tr>\n",
       "    <tr>\n",
       "      <th>2011-03-01</th>\n",
       "      <td>32275</td>\n",
       "    </tr>\n",
       "    <tr>\n",
       "      <th>2011-04-01</th>\n",
       "      <td>21128</td>\n",
       "    </tr>\n",
       "    <tr>\n",
       "      <th>2011-05-01</th>\n",
       "      <td>19554</td>\n",
       "    </tr>\n",
       "    <tr>\n",
       "      <th>...</th>\n",
       "      <td>...</td>\n",
       "    </tr>\n",
       "    <tr>\n",
       "      <th>2023-01-01</th>\n",
       "      <td>28970</td>\n",
       "    </tr>\n",
       "    <tr>\n",
       "      <th>2023-02-01</th>\n",
       "      <td>27336</td>\n",
       "    </tr>\n",
       "    <tr>\n",
       "      <th>2023-03-01</th>\n",
       "      <td>29471</td>\n",
       "    </tr>\n",
       "    <tr>\n",
       "      <th>2023-04-01</th>\n",
       "      <td>21518</td>\n",
       "    </tr>\n",
       "    <tr>\n",
       "      <th>2023-05-01</th>\n",
       "      <td>28178</td>\n",
       "    </tr>\n",
       "  </tbody>\n",
       "</table>\n",
       "<p>149 rows × 1 columns</p>\n",
       "</div>"
      ],
      "text/plain": [
       "            Penjualan\n",
       "Bulan                \n",
       "2011-01-01      27619\n",
       "2011-02-01      25532\n",
       "2011-03-01      32275\n",
       "2011-04-01      21128\n",
       "2011-05-01      19554\n",
       "...               ...\n",
       "2023-01-01      28970\n",
       "2023-02-01      27336\n",
       "2023-03-01      29471\n",
       "2023-04-01      21518\n",
       "2023-05-01      28178\n",
       "\n",
       "[149 rows x 1 columns]"
      ]
     },
     "execution_count": 36,
     "metadata": {},
     "output_type": "execute_result"
    }
   ],
   "source": [
    "df"
   ]
  },
  {
   "cell_type": "code",
   "execution_count": 37,
   "id": "9cfa8323",
   "metadata": {
    "id": "9cfa8323",
    "outputId": "529ca474-aa9c-455c-aa85-8aff78015455"
   },
   "outputs": [
    {
     "data": {
      "text/html": [
       "<div>\n",
       "<style scoped>\n",
       "    .dataframe tbody tr th:only-of-type {\n",
       "        vertical-align: middle;\n",
       "    }\n",
       "\n",
       "    .dataframe tbody tr th {\n",
       "        vertical-align: top;\n",
       "    }\n",
       "\n",
       "    .dataframe thead th {\n",
       "        text-align: right;\n",
       "    }\n",
       "</style>\n",
       "<table border=\"1\" class=\"dataframe\">\n",
       "  <thead>\n",
       "    <tr style=\"text-align: right;\">\n",
       "      <th></th>\n",
       "      <th>Penjualan</th>\n",
       "    </tr>\n",
       "    <tr>\n",
       "      <th>Bulan</th>\n",
       "      <th></th>\n",
       "    </tr>\n",
       "  </thead>\n",
       "  <tbody>\n",
       "    <tr>\n",
       "      <th>2011-01-31</th>\n",
       "      <td>27619</td>\n",
       "    </tr>\n",
       "    <tr>\n",
       "      <th>2011-02-28</th>\n",
       "      <td>25532</td>\n",
       "    </tr>\n",
       "    <tr>\n",
       "      <th>2011-03-31</th>\n",
       "      <td>32275</td>\n",
       "    </tr>\n",
       "    <tr>\n",
       "      <th>2011-04-30</th>\n",
       "      <td>21128</td>\n",
       "    </tr>\n",
       "    <tr>\n",
       "      <th>2011-05-31</th>\n",
       "      <td>19554</td>\n",
       "    </tr>\n",
       "    <tr>\n",
       "      <th>...</th>\n",
       "      <td>...</td>\n",
       "    </tr>\n",
       "    <tr>\n",
       "      <th>2023-01-31</th>\n",
       "      <td>28970</td>\n",
       "    </tr>\n",
       "    <tr>\n",
       "      <th>2023-02-28</th>\n",
       "      <td>27336</td>\n",
       "    </tr>\n",
       "    <tr>\n",
       "      <th>2023-03-31</th>\n",
       "      <td>29471</td>\n",
       "    </tr>\n",
       "    <tr>\n",
       "      <th>2023-04-30</th>\n",
       "      <td>21518</td>\n",
       "    </tr>\n",
       "    <tr>\n",
       "      <th>2023-05-31</th>\n",
       "      <td>28178</td>\n",
       "    </tr>\n",
       "  </tbody>\n",
       "</table>\n",
       "<p>149 rows × 1 columns</p>\n",
       "</div>"
      ],
      "text/plain": [
       "            Penjualan\n",
       "Bulan                \n",
       "2011-01-31      27619\n",
       "2011-02-28      25532\n",
       "2011-03-31      32275\n",
       "2011-04-30      21128\n",
       "2011-05-31      19554\n",
       "...               ...\n",
       "2023-01-31      28970\n",
       "2023-02-28      27336\n",
       "2023-03-31      29471\n",
       "2023-04-30      21518\n",
       "2023-05-31      28178\n",
       "\n",
       "[149 rows x 1 columns]"
      ]
     },
     "execution_count": 37,
     "metadata": {},
     "output_type": "execute_result"
    }
   ],
   "source": [
    "df = df.resample(\"M\").sum()\n",
    "df"
   ]
  },
  {
   "cell_type": "code",
   "execution_count": 38,
   "id": "bf37f98b",
   "metadata": {
    "id": "bf37f98b",
    "outputId": "54ca9f32-8dc5-4de6-db14-11922789e03a"
   },
   "outputs": [
    {
     "name": "stdout",
     "output_type": "stream",
     "text": [
      "<class 'pandas.core.frame.DataFrame'>\n",
      "DatetimeIndex: 149 entries, 2011-01-31 to 2023-05-31\n",
      "Freq: M\n",
      "Data columns (total 1 columns):\n",
      " #   Column     Non-Null Count  Dtype\n",
      "---  ------     --------------  -----\n",
      " 0   Penjualan  149 non-null    int64\n",
      "dtypes: int64(1)\n",
      "memory usage: 2.3 KB\n"
     ]
    }
   ],
   "source": [
    "df.info()"
   ]
  },
  {
   "cell_type": "code",
   "execution_count": 39,
   "id": "90416b01",
   "metadata": {
    "id": "90416b01"
   },
   "outputs": [],
   "source": [
    "df = df.reset_index()"
   ]
  },
  {
   "cell_type": "code",
   "execution_count": 40,
   "id": "7fe44090",
   "metadata": {
    "id": "7fe44090",
    "outputId": "beae17ed-c3ce-4bef-b3c9-f0dc0cff90c6"
   },
   "outputs": [
    {
     "data": {
      "text/html": [
       "<div>\n",
       "<style scoped>\n",
       "    .dataframe tbody tr th:only-of-type {\n",
       "        vertical-align: middle;\n",
       "    }\n",
       "\n",
       "    .dataframe tbody tr th {\n",
       "        vertical-align: top;\n",
       "    }\n",
       "\n",
       "    .dataframe thead th {\n",
       "        text-align: right;\n",
       "    }\n",
       "</style>\n",
       "<table border=\"1\" class=\"dataframe\">\n",
       "  <thead>\n",
       "    <tr style=\"text-align: right;\">\n",
       "      <th></th>\n",
       "      <th>Bulan</th>\n",
       "      <th>Penjualan</th>\n",
       "    </tr>\n",
       "  </thead>\n",
       "  <tbody>\n",
       "    <tr>\n",
       "      <th>0</th>\n",
       "      <td>2011-01-31</td>\n",
       "      <td>27619</td>\n",
       "    </tr>\n",
       "    <tr>\n",
       "      <th>1</th>\n",
       "      <td>2011-02-28</td>\n",
       "      <td>25532</td>\n",
       "    </tr>\n",
       "    <tr>\n",
       "      <th>2</th>\n",
       "      <td>2011-03-31</td>\n",
       "      <td>32275</td>\n",
       "    </tr>\n",
       "    <tr>\n",
       "      <th>3</th>\n",
       "      <td>2011-04-30</td>\n",
       "      <td>21128</td>\n",
       "    </tr>\n",
       "    <tr>\n",
       "      <th>4</th>\n",
       "      <td>2011-05-31</td>\n",
       "      <td>19554</td>\n",
       "    </tr>\n",
       "    <tr>\n",
       "      <th>...</th>\n",
       "      <td>...</td>\n",
       "      <td>...</td>\n",
       "    </tr>\n",
       "    <tr>\n",
       "      <th>144</th>\n",
       "      <td>2023-01-31</td>\n",
       "      <td>28970</td>\n",
       "    </tr>\n",
       "    <tr>\n",
       "      <th>145</th>\n",
       "      <td>2023-02-28</td>\n",
       "      <td>27336</td>\n",
       "    </tr>\n",
       "    <tr>\n",
       "      <th>146</th>\n",
       "      <td>2023-03-31</td>\n",
       "      <td>29471</td>\n",
       "    </tr>\n",
       "    <tr>\n",
       "      <th>147</th>\n",
       "      <td>2023-04-30</td>\n",
       "      <td>21518</td>\n",
       "    </tr>\n",
       "    <tr>\n",
       "      <th>148</th>\n",
       "      <td>2023-05-31</td>\n",
       "      <td>28178</td>\n",
       "    </tr>\n",
       "  </tbody>\n",
       "</table>\n",
       "<p>149 rows × 2 columns</p>\n",
       "</div>"
      ],
      "text/plain": [
       "         Bulan  Penjualan\n",
       "0   2011-01-31      27619\n",
       "1   2011-02-28      25532\n",
       "2   2011-03-31      32275\n",
       "3   2011-04-30      21128\n",
       "4   2011-05-31      19554\n",
       "..         ...        ...\n",
       "144 2023-01-31      28970\n",
       "145 2023-02-28      27336\n",
       "146 2023-03-31      29471\n",
       "147 2023-04-30      21518\n",
       "148 2023-05-31      28178\n",
       "\n",
       "[149 rows x 2 columns]"
      ]
     },
     "execution_count": 40,
     "metadata": {},
     "output_type": "execute_result"
    }
   ],
   "source": [
    "df"
   ]
  },
  {
   "cell_type": "code",
   "execution_count": 41,
   "id": "56418f53",
   "metadata": {
    "id": "56418f53",
    "outputId": "bcd4df17-3148-4bd4-f110-746132e15d69"
   },
   "outputs": [
    {
     "data": {
      "text/plain": [
       "count      149.000000\n",
       "mean     28402.845638\n",
       "std       7579.399557\n",
       "min        695.000000\n",
       "25%      25081.000000\n",
       "50%      29362.000000\n",
       "75%      33344.000000\n",
       "max      40781.000000\n",
       "Name: Penjualan, dtype: float64"
      ]
     },
     "execution_count": 41,
     "metadata": {},
     "output_type": "execute_result"
    }
   ],
   "source": [
    "\n",
    "df['Penjualan'].describe()"
   ]
  },
  {
   "cell_type": "code",
   "execution_count": 42,
   "id": "578942d1",
   "metadata": {
    "id": "578942d1",
    "outputId": "a23f99a5-4ed1-496e-b526-83117bb6d47e"
   },
   "outputs": [
    {
     "data": {
      "text/plain": [
       "{'whiskers': [<matplotlib.lines.Line2D at 0x1e6901a8d30>,\n",
       "  <matplotlib.lines.Line2D at 0x1e6901a8fd0>],\n",
       " 'caps': [<matplotlib.lines.Line2D at 0x1e6901b51f0>,\n",
       "  <matplotlib.lines.Line2D at 0x1e6901b54f0>],\n",
       " 'boxes': [<matplotlib.lines.Line2D at 0x1e6901a8a60>],\n",
       " 'medians': [<matplotlib.lines.Line2D at 0x1e6901b57f0>],\n",
       " 'fliers': [<matplotlib.lines.Line2D at 0x1e6901b5ac0>],\n",
       " 'means': []}"
      ]
     },
     "execution_count": 42,
     "metadata": {},
     "output_type": "execute_result"
    },
    {
     "data": {
      "image/png": "[encoded data removed]",
      "text/plain": [
       "<Figure size 640x480 with 1 Axes>"
      ]
     },
     "metadata": {},
     "output_type": "display_data"
    }
   ],
   "source": [
    "from matplotlib import pyplot as plt\n",
    "\n",
    "plt.boxplot(df['Penjualan'])"
   ]
  },
  {
   "cell_type": "code",
   "execution_count": 43,
   "id": "40bfd8bc",
   "metadata": {
    "id": "40bfd8bc",
    "outputId": "726f745c-5df6-4cf8-9735-539a9ab2e946"
   },
   "outputs": [
    {
     "data": {
      "text/plain": [
       "111    2053\n",
       "112     695\n",
       "113    3705\n",
       "114    7224\n",
       "115    8673\n",
       "Name: Penjualan, dtype: int64"
      ]
     },
     "execution_count": 43,
     "metadata": {},
     "output_type": "execute_result"
    }
   ],
   "source": [
    "from scipy import stats\n",
    "import numpy as np\n",
    "\n",
    "\n",
    "def outlier_detection(data_column,threshold):\n",
    "    z_scr = stats.zscore(data_column)\n",
    "    out = data_column[np.where(np.abs(z_scr) > threshold)[0]]\n",
    "    return out\n",
    "\n",
    "outlier_detection(df['Penjualan'], threshold = 2.5)"
   ]
  },
  {
   "cell_type": "code",
   "execution_count": 44,
   "id": "829ffbb0",
   "metadata": {
    "id": "829ffbb0",
    "outputId": "f0e252ba-e9e9-418d-f223-0d2d61e7a9d6"
   },
   "outputs": [
    {
     "data": {
      "text/html": [
       "<div>\n",
       "<style scoped>\n",
       "    .dataframe tbody tr th:only-of-type {\n",
       "        vertical-align: middle;\n",
       "    }\n",
       "\n",
       "    .dataframe tbody tr th {\n",
       "        vertical-align: top;\n",
       "    }\n",
       "\n",
       "    .dataframe thead th {\n",
       "        text-align: right;\n",
       "    }\n",
       "</style>\n",
       "<table border=\"1\" class=\"dataframe\">\n",
       "  <thead>\n",
       "    <tr style=\"text-align: right;\">\n",
       "      <th></th>\n",
       "      <th>Bulan</th>\n",
       "      <th>Penjualan</th>\n",
       "    </tr>\n",
       "  </thead>\n",
       "  <tbody>\n",
       "    <tr>\n",
       "      <th>0</th>\n",
       "      <td>2011-01-31</td>\n",
       "      <td>27619</td>\n",
       "    </tr>\n",
       "    <tr>\n",
       "      <th>1</th>\n",
       "      <td>2011-02-28</td>\n",
       "      <td>25532</td>\n",
       "    </tr>\n",
       "    <tr>\n",
       "      <th>2</th>\n",
       "      <td>2011-03-31</td>\n",
       "      <td>32275</td>\n",
       "    </tr>\n",
       "    <tr>\n",
       "      <th>3</th>\n",
       "      <td>2011-04-30</td>\n",
       "      <td>21128</td>\n",
       "    </tr>\n",
       "    <tr>\n",
       "      <th>4</th>\n",
       "      <td>2011-05-31</td>\n",
       "      <td>19554</td>\n",
       "    </tr>\n",
       "    <tr>\n",
       "      <th>...</th>\n",
       "      <td>...</td>\n",
       "      <td>...</td>\n",
       "    </tr>\n",
       "    <tr>\n",
       "      <th>144</th>\n",
       "      <td>2023-01-31</td>\n",
       "      <td>28970</td>\n",
       "    </tr>\n",
       "    <tr>\n",
       "      <th>145</th>\n",
       "      <td>2023-02-28</td>\n",
       "      <td>27336</td>\n",
       "    </tr>\n",
       "    <tr>\n",
       "      <th>146</th>\n",
       "      <td>2023-03-31</td>\n",
       "      <td>29471</td>\n",
       "    </tr>\n",
       "    <tr>\n",
       "      <th>147</th>\n",
       "      <td>2023-04-30</td>\n",
       "      <td>21518</td>\n",
       "    </tr>\n",
       "    <tr>\n",
       "      <th>148</th>\n",
       "      <td>2023-05-31</td>\n",
       "      <td>28178</td>\n",
       "    </tr>\n",
       "  </tbody>\n",
       "</table>\n",
       "<p>144 rows × 2 columns</p>\n",
       "</div>"
      ],
      "text/plain": [
       "         Bulan  Penjualan\n",
       "0   2011-01-31      27619\n",
       "1   2011-02-28      25532\n",
       "2   2011-03-31      32275\n",
       "3   2011-04-30      21128\n",
       "4   2011-05-31      19554\n",
       "..         ...        ...\n",
       "144 2023-01-31      28970\n",
       "145 2023-02-28      27336\n",
       "146 2023-03-31      29471\n",
       "147 2023-04-30      21518\n",
       "148 2023-05-31      28178\n",
       "\n",
       "[144 rows x 2 columns]"
      ]
     },
     "execution_count": 44,
     "metadata": {},
     "output_type": "execute_result"
    }
   ],
   "source": [
    "df_no_out = df.drop([111,112,113,114,115])\n",
    "df_no_out"
   ]
  },
  {
   "cell_type": "code",
   "execution_count": 45,
   "id": "bd5f305f",
   "metadata": {
    "id": "bd5f305f",
    "outputId": "b7c42a9b-3801-4d8f-b9f7-2d2276e7fc62"
   },
   "outputs": [
    {
     "data": {
      "text/plain": [
       "(array([ 3.,  2.,  0.,  8.,  5., 15., 29., 46., 26., 15.]),\n",
       " array([  695. ,  4703.6,  8712.2, 12720.8, 16729.4, 20738. , 24746.6,\n",
       "        28755.2, 32763.8, 36772.4, 40781. ]),\n",
       " <BarContainer object of 10 artists>)"
      ]
     },
     "execution_count": 45,
     "metadata": {},
     "output_type": "execute_result"
    },
    {
     "data": {
      "image/png": "[encoded data removed]",
      "text/plain": [
       "<Figure size 640x480 with 1 Axes>"
      ]
     },
     "metadata": {},
     "output_type": "display_data"
    }
   ],
   "source": [
    "plt.hist(df['Penjualan'])"
   ]
  },
  {
   "cell_type": "code",
   "execution_count": 46,
   "id": "6ff691b8",
   "metadata": {
    "id": "6ff691b8",
    "outputId": "a78de8c4-949c-4c2d-8c3c-bf4f18a77910"
   },
   "outputs": [
    {
     "data": {
      "text/plain": [
       "(array([ 6.,  5.,  3., 13., 18., 28., 28., 20., 11., 12.]),\n",
       " array([13150. , 15913.1, 18676.2, 21439.3, 24202.4, 26965.5, 29728.6,\n",
       "        32491.7, 35254.8, 38017.9, 40781. ]),\n",
       " <BarContainer object of 10 artists>)"
      ]
     },
     "execution_count": 46,
     "metadata": {},
     "output_type": "execute_result"
    },
    {
     "data": {
      "image/png": "[encoded data removed]",
      "text/plain": [
       "<Figure size 640x480 with 1 Axes>"
      ]
     },
     "metadata": {},
     "output_type": "display_data"
    }
   ],
   "source": [
    "plt.hist(df_no_out['Penjualan'])"
   ]
  },
  {
   "cell_type": "code",
   "execution_count": 47,
   "id": "a2e610c2",
   "metadata": {
    "id": "a2e610c2",
    "outputId": "d8a0acd3-ffd8-445d-ce9e-d15eef49a0e2"
   },
   "outputs": [
    {
     "data": {
      "text/html": [
       "<div>\n",
       "<style scoped>\n",
       "    .dataframe tbody tr th:only-of-type {\n",
       "        vertical-align: middle;\n",
       "    }\n",
       "\n",
       "    .dataframe tbody tr th {\n",
       "        vertical-align: top;\n",
       "    }\n",
       "\n",
       "    .dataframe thead th {\n",
       "        text-align: right;\n",
       "    }\n",
       "</style>\n",
       "<table border=\"1\" class=\"dataframe\">\n",
       "  <thead>\n",
       "    <tr style=\"text-align: right;\">\n",
       "      <th></th>\n",
       "      <th>Penjualan</th>\n",
       "    </tr>\n",
       "    <tr>\n",
       "      <th>Bulan</th>\n",
       "      <th></th>\n",
       "    </tr>\n",
       "  </thead>\n",
       "  <tbody>\n",
       "    <tr>\n",
       "      <th>2011-01-31</th>\n",
       "      <td>27619</td>\n",
       "    </tr>\n",
       "    <tr>\n",
       "      <th>2011-02-28</th>\n",
       "      <td>25532</td>\n",
       "    </tr>\n",
       "    <tr>\n",
       "      <th>2011-03-31</th>\n",
       "      <td>32275</td>\n",
       "    </tr>\n",
       "    <tr>\n",
       "      <th>2011-04-30</th>\n",
       "      <td>21128</td>\n",
       "    </tr>\n",
       "    <tr>\n",
       "      <th>2011-05-31</th>\n",
       "      <td>19554</td>\n",
       "    </tr>\n",
       "    <tr>\n",
       "      <th>...</th>\n",
       "      <td>...</td>\n",
       "    </tr>\n",
       "    <tr>\n",
       "      <th>2023-01-31</th>\n",
       "      <td>28970</td>\n",
       "    </tr>\n",
       "    <tr>\n",
       "      <th>2023-02-28</th>\n",
       "      <td>27336</td>\n",
       "    </tr>\n",
       "    <tr>\n",
       "      <th>2023-03-31</th>\n",
       "      <td>29471</td>\n",
       "    </tr>\n",
       "    <tr>\n",
       "      <th>2023-04-30</th>\n",
       "      <td>21518</td>\n",
       "    </tr>\n",
       "    <tr>\n",
       "      <th>2023-05-31</th>\n",
       "      <td>28178</td>\n",
       "    </tr>\n",
       "  </tbody>\n",
       "</table>\n",
       "<p>144 rows × 1 columns</p>\n",
       "</div>"
      ],
      "text/plain": [
       "            Penjualan\n",
       "Bulan                \n",
       "2011-01-31      27619\n",
       "2011-02-28      25532\n",
       "2011-03-31      32275\n",
       "2011-04-30      21128\n",
       "2011-05-31      19554\n",
       "...               ...\n",
       "2023-01-31      28970\n",
       "2023-02-28      27336\n",
       "2023-03-31      29471\n",
       "2023-04-30      21518\n",
       "2023-05-31      28178\n",
       "\n",
       "[144 rows x 1 columns]"
      ]
     },
     "execution_count": 47,
     "metadata": {},
     "output_type": "execute_result"
    }
   ],
   "source": [
    "df_no_out.index = df_no_out.pop('Bulan')\n",
    "df_no_out"
   ]
  },
  {
   "cell_type": "code",
   "execution_count": 48,
   "id": "281510af",
   "metadata": {
    "id": "281510af",
    "outputId": "dda87327-4dd4-4dca-df3a-e6ed3fccdf2a"
   },
   "outputs": [
    {
     "data": {
      "text/plain": [
       "[<matplotlib.lines.Line2D at 0x1e6907c2a60>]"
      ]
     },
     "execution_count": 48,
     "metadata": {},
     "output_type": "execute_result"
    },
    {
     "data": {
      "image/png": "[encoded data removed]",
      "text/plain": [
       "<Figure size 640x480 with 1 Axes>"
      ]
     },
     "metadata": {},
     "output_type": "display_data"
    }
   ],
   "source": [
    "plt.plot(df_no_out.index, df_no_out['Penjualan'])"
   ]
  },
  {
   "cell_type": "markdown",
   "id": "99ac22c3",
   "metadata": {
    "id": "99ac22c3"
   },
   "source": [
    "# Using XGBOOST"
   ]
  },
  {
   "cell_type": "code",
   "execution_count": 49,
   "id": "8f18c43c",
   "metadata": {
    "id": "8f18c43c"
   },
   "outputs": [],
   "source": [
    "from xgboost import XGBRegressor"
   ]
  },
  {
   "cell_type": "code",
   "execution_count": 50,
   "id": "9fe8014c",
   "metadata": {
    "id": "9fe8014c"
   },
   "outputs": [],
   "source": [
    "df_xg = df_no_out"
   ]
  },
  {
   "cell_type": "code",
   "execution_count": 51,
   "id": "b526683c",
   "metadata": {
    "id": "b526683c",
    "outputId": "87f12c11-bb3e-4c00-952c-0886a933e24b"
   },
   "outputs": [
    {
     "data": {
      "text/html": [
       "<div>\n",
       "<style scoped>\n",
       "    .dataframe tbody tr th:only-of-type {\n",
       "        vertical-align: middle;\n",
       "    }\n",
       "\n",
       "    .dataframe tbody tr th {\n",
       "        vertical-align: top;\n",
       "    }\n",
       "\n",
       "    .dataframe thead th {\n",
       "        text-align: right;\n",
       "    }\n",
       "</style>\n",
       "<table border=\"1\" class=\"dataframe\">\n",
       "  <thead>\n",
       "    <tr style=\"text-align: right;\">\n",
       "      <th></th>\n",
       "      <th>Bulan</th>\n",
       "      <th>Penjualan</th>\n",
       "    </tr>\n",
       "  </thead>\n",
       "  <tbody>\n",
       "    <tr>\n",
       "      <th>0</th>\n",
       "      <td>2011-01-31</td>\n",
       "      <td>27619</td>\n",
       "    </tr>\n",
       "    <tr>\n",
       "      <th>1</th>\n",
       "      <td>2011-02-28</td>\n",
       "      <td>25532</td>\n",
       "    </tr>\n",
       "    <tr>\n",
       "      <th>2</th>\n",
       "      <td>2011-03-31</td>\n",
       "      <td>32275</td>\n",
       "    </tr>\n",
       "    <tr>\n",
       "      <th>3</th>\n",
       "      <td>2011-04-30</td>\n",
       "      <td>21128</td>\n",
       "    </tr>\n",
       "    <tr>\n",
       "      <th>4</th>\n",
       "      <td>2011-05-31</td>\n",
       "      <td>19554</td>\n",
       "    </tr>\n",
       "    <tr>\n",
       "      <th>...</th>\n",
       "      <td>...</td>\n",
       "      <td>...</td>\n",
       "    </tr>\n",
       "    <tr>\n",
       "      <th>139</th>\n",
       "      <td>2023-01-31</td>\n",
       "      <td>28970</td>\n",
       "    </tr>\n",
       "    <tr>\n",
       "      <th>140</th>\n",
       "      <td>2023-02-28</td>\n",
       "      <td>27336</td>\n",
       "    </tr>\n",
       "    <tr>\n",
       "      <th>141</th>\n",
       "      <td>2023-03-31</td>\n",
       "      <td>29471</td>\n",
       "    </tr>\n",
       "    <tr>\n",
       "      <th>142</th>\n",
       "      <td>2023-04-30</td>\n",
       "      <td>21518</td>\n",
       "    </tr>\n",
       "    <tr>\n",
       "      <th>143</th>\n",
       "      <td>2023-05-31</td>\n",
       "      <td>28178</td>\n",
       "    </tr>\n",
       "  </tbody>\n",
       "</table>\n",
       "<p>144 rows × 2 columns</p>\n",
       "</div>"
      ],
      "text/plain": [
       "         Bulan  Penjualan\n",
       "0   2011-01-31      27619\n",
       "1   2011-02-28      25532\n",
       "2   2011-03-31      32275\n",
       "3   2011-04-30      21128\n",
       "4   2011-05-31      19554\n",
       "..         ...        ...\n",
       "139 2023-01-31      28970\n",
       "140 2023-02-28      27336\n",
       "141 2023-03-31      29471\n",
       "142 2023-04-30      21518\n",
       "143 2023-05-31      28178\n",
       "\n",
       "[144 rows x 2 columns]"
      ]
     },
     "execution_count": 51,
     "metadata": {},
     "output_type": "execute_result"
    }
   ],
   "source": [
    "df_xg = df_xg.reset_index()\n",
    "df_xg"
   ]
  },
  {
   "cell_type": "code",
   "execution_count": 52,
   "id": "57c6f434",
   "metadata": {
    "id": "57c6f434"
   },
   "outputs": [
    {
     "name": "stderr",
     "output_type": "stream",
     "text": [
      "C:\\Users\\axcss\\AppData\\Local\\Temp\\ipykernel_27332\\2058043775.py:5: FutureWarning: Series.dt.weekofyear and Series.dt.week have been deprecated. Please use Series.dt.isocalendar().week instead.\n",
      "  df_xg['dayofWeek'] = df_xg['Bulan'].dt.week\n"
     ]
    }
   ],
   "source": [
    "# extract more feature\n",
    "df_xg['Day'] = df_xg['Bulan'].dt.day\n",
    "df_xg['Month'] = df_xg['Bulan'].dt.month\n",
    "df_xg['Year'] = df_xg['Bulan'].dt.year\n",
    "df_xg['dayofWeek'] = df_xg['Bulan'].dt.week\n",
    "\n",
    "df_xg['dayofyear'] = df_xg['Bulan'].dt.dayofyear\n",
    "df_xg['sin_day'] = np.sin(df_xg['dayofyear'])\n",
    "df_xg['cos_day'] = np.cos(df_xg['dayofyear'])"
   ]
  },
  {
   "cell_type": "code",
   "execution_count": 53,
   "id": "d041111a",
   "metadata": {
    "id": "d041111a",
    "outputId": "2b11f0e8-7618-4424-ef81-2d68cbabf186"
   },
   "outputs": [
    {
     "name": "stdout",
     "output_type": "stream",
     "text": [
      "<class 'pandas.core.frame.DataFrame'>\n",
      "RangeIndex: 144 entries, 0 to 143\n",
      "Data columns (total 9 columns):\n",
      " #   Column     Non-Null Count  Dtype         \n",
      "---  ------     --------------  -----         \n",
      " 0   Bulan      144 non-null    datetime64[ns]\n",
      " 1   Penjualan  144 non-null    int64         \n",
      " 2   Day        144 non-null    int64         \n",
      " 3   Month      144 non-null    int64         \n",
      " 4   Year       144 non-null    int64         \n",
      " 5   dayofWeek  144 non-null    int64         \n",
      " 6   dayofyear  144 non-null    int64         \n",
      " 7   sin_day    144 non-null    float64       \n",
      " 8   cos_day    144 non-null    float64       \n",
      "dtypes: datetime64[ns](1), float64(2), int64(6)\n",
      "memory usage: 10.2 KB\n"
     ]
    }
   ],
   "source": [
    "df_xg.info()"
   ]
  },
  {
   "cell_type": "code",
   "execution_count": 54,
   "id": "79752ac0",
   "metadata": {
    "id": "79752ac0"
   },
   "outputs": [],
   "source": [
    "# Split\n",
    "\n",
    "train = df_xg[0:139]\n",
    "X_train=train.drop(['Penjualan','Bulan'],axis=1)\n",
    "y_train=train['Penjualan']\n",
    "\n",
    "# i want test set are the information on 2023\n",
    "test = df_xg[139:]\n",
    "X_test=test.drop(['Penjualan','Bulan'],axis=1)\n",
    "y_test=test['Penjualan']"
   ]
  },
  {
   "cell_type": "code",
   "execution_count": 55,
   "id": "ea559865",
   "metadata": {
    "id": "ea559865"
   },
   "outputs": [],
   "source": [
    "\n",
    "from xgboost import plot_importance, plot_tree\n",
    "import xgboost as xgb\n",
    "\n",
    "reg = xgb.XGBRegressor(objective='reg:squarederror', n_estimators=1000)\n",
    "reg.fit(X_train, y_train,\n",
    "        verbose=False)  # Change verbose to True if you want to see it train\n",
    "yhat = reg.predict(X_test)"
   ]
  },
  {
   "cell_type": "code",
   "execution_count": 57,
   "id": "894036ce",
   "metadata": {
    "id": "894036ce",
    "outputId": "ef893b54-b1fe-45a9-c60e-93b33692d374"
   },
   "outputs": [
    {
     "data": {
      "text/plain": [
       "63753032.85430851"
      ]
     },
     "execution_count": 57,
     "metadata": {},
     "output_type": "execute_result"
    }
   ],
   "source": [
    "from sklearn.metrics import mean_squared_error\n",
    "\n",
    "mse_XgbReg = mean_squared_error(y_test,yhat)\n",
    "mse_XgbReg"
   ]
  },
  {
   "cell_type": "markdown",
   "id": "ede0becb",
   "metadata": {
    "id": "ede0becb"
   },
   "source": [
    "# Model using facebook prophet"
   ]
  },
  {
   "cell_type": "code",
   "execution_count": 58,
   "id": "88b2cf57",
   "metadata": {
    "id": "88b2cf57"
   },
   "outputs": [
    {
     "data": {
      "text/html": [
       "<div>\n",
       "<style scoped>\n",
       "    .dataframe tbody tr th:only-of-type {\n",
       "        vertical-align: middle;\n",
       "    }\n",
       "\n",
       "    .dataframe tbody tr th {\n",
       "        vertical-align: top;\n",
       "    }\n",
       "\n",
       "    .dataframe thead th {\n",
       "        text-align: right;\n",
       "    }\n",
       "</style>\n",
       "<table border=\"1\" class=\"dataframe\">\n",
       "  <thead>\n",
       "    <tr style=\"text-align: right;\">\n",
       "      <th></th>\n",
       "      <th>Bulan</th>\n",
       "      <th>Penjualan</th>\n",
       "    </tr>\n",
       "  </thead>\n",
       "  <tbody>\n",
       "    <tr>\n",
       "      <th>0</th>\n",
       "      <td>2011-01-31</td>\n",
       "      <td>27619</td>\n",
       "    </tr>\n",
       "    <tr>\n",
       "      <th>1</th>\n",
       "      <td>2011-02-28</td>\n",
       "      <td>25532</td>\n",
       "    </tr>\n",
       "    <tr>\n",
       "      <th>2</th>\n",
       "      <td>2011-03-31</td>\n",
       "      <td>32275</td>\n",
       "    </tr>\n",
       "    <tr>\n",
       "      <th>3</th>\n",
       "      <td>2011-04-30</td>\n",
       "      <td>21128</td>\n",
       "    </tr>\n",
       "    <tr>\n",
       "      <th>4</th>\n",
       "      <td>2011-05-31</td>\n",
       "      <td>19554</td>\n",
       "    </tr>\n",
       "    <tr>\n",
       "      <th>...</th>\n",
       "      <td>...</td>\n",
       "      <td>...</td>\n",
       "    </tr>\n",
       "    <tr>\n",
       "      <th>139</th>\n",
       "      <td>2023-01-31</td>\n",
       "      <td>28970</td>\n",
       "    </tr>\n",
       "    <tr>\n",
       "      <th>140</th>\n",
       "      <td>2023-02-28</td>\n",
       "      <td>27336</td>\n",
       "    </tr>\n",
       "    <tr>\n",
       "      <th>141</th>\n",
       "      <td>2023-03-31</td>\n",
       "      <td>29471</td>\n",
       "    </tr>\n",
       "    <tr>\n",
       "      <th>142</th>\n",
       "      <td>2023-04-30</td>\n",
       "      <td>21518</td>\n",
       "    </tr>\n",
       "    <tr>\n",
       "      <th>143</th>\n",
       "      <td>2023-05-31</td>\n",
       "      <td>28178</td>\n",
       "    </tr>\n",
       "  </tbody>\n",
       "</table>\n",
       "<p>144 rows × 2 columns</p>\n",
       "</div>"
      ],
      "text/plain": [
       "         Bulan  Penjualan\n",
       "0   2011-01-31      27619\n",
       "1   2011-02-28      25532\n",
       "2   2011-03-31      32275\n",
       "3   2011-04-30      21128\n",
       "4   2011-05-31      19554\n",
       "..         ...        ...\n",
       "139 2023-01-31      28970\n",
       "140 2023-02-28      27336\n",
       "141 2023-03-31      29471\n",
       "142 2023-04-30      21518\n",
       "143 2023-05-31      28178\n",
       "\n",
       "[144 rows x 2 columns]"
      ]
     },
     "execution_count": 58,
     "metadata": {},
     "output_type": "execute_result"
    }
   ],
   "source": [
    "df_prophet = df_no_out.copy()\n",
    "df_prophet=df_prophet.reset_index()\n",
    "df_prophet"
   ]
  },
  {
   "cell_type": "code",
   "execution_count": 60,
   "id": "da94440c",
   "metadata": {
    "id": "da94440c",
    "outputId": "e9bc5cec-9058-4562-e810-d080948bde4a"
   },
   "outputs": [
    {
     "data": {
      "text/html": [
       "<div>\n",
       "<style scoped>\n",
       "    .dataframe tbody tr th:only-of-type {\n",
       "        vertical-align: middle;\n",
       "    }\n",
       "\n",
       "    .dataframe tbody tr th {\n",
       "        vertical-align: top;\n",
       "    }\n",
       "\n",
       "    .dataframe thead th {\n",
       "        text-align: right;\n",
       "    }\n",
       "</style>\n",
       "<table border=\"1\" class=\"dataframe\">\n",
       "  <thead>\n",
       "    <tr style=\"text-align: right;\">\n",
       "      <th></th>\n",
       "      <th>ds</th>\n",
       "      <th>y</th>\n",
       "    </tr>\n",
       "  </thead>\n",
       "  <tbody>\n",
       "    <tr>\n",
       "      <th>0</th>\n",
       "      <td>2011-01-31</td>\n",
       "      <td>27619</td>\n",
       "    </tr>\n",
       "    <tr>\n",
       "      <th>1</th>\n",
       "      <td>2011-02-28</td>\n",
       "      <td>25532</td>\n",
       "    </tr>\n",
       "    <tr>\n",
       "      <th>2</th>\n",
       "      <td>2011-03-31</td>\n",
       "      <td>32275</td>\n",
       "    </tr>\n",
       "    <tr>\n",
       "      <th>3</th>\n",
       "      <td>2011-04-30</td>\n",
       "      <td>21128</td>\n",
       "    </tr>\n",
       "    <tr>\n",
       "      <th>4</th>\n",
       "      <td>2011-05-31</td>\n",
       "      <td>19554</td>\n",
       "    </tr>\n",
       "    <tr>\n",
       "      <th>...</th>\n",
       "      <td>...</td>\n",
       "      <td>...</td>\n",
       "    </tr>\n",
       "    <tr>\n",
       "      <th>139</th>\n",
       "      <td>2023-01-31</td>\n",
       "      <td>28970</td>\n",
       "    </tr>\n",
       "    <tr>\n",
       "      <th>140</th>\n",
       "      <td>2023-02-28</td>\n",
       "      <td>27336</td>\n",
       "    </tr>\n",
       "    <tr>\n",
       "      <th>141</th>\n",
       "      <td>2023-03-31</td>\n",
       "      <td>29471</td>\n",
       "    </tr>\n",
       "    <tr>\n",
       "      <th>142</th>\n",
       "      <td>2023-04-30</td>\n",
       "      <td>21518</td>\n",
       "    </tr>\n",
       "    <tr>\n",
       "      <th>143</th>\n",
       "      <td>2023-05-31</td>\n",
       "      <td>28178</td>\n",
       "    </tr>\n",
       "  </tbody>\n",
       "</table>\n",
       "<p>144 rows × 2 columns</p>\n",
       "</div>"
      ],
      "text/plain": [
       "            ds      y\n",
       "0   2011-01-31  27619\n",
       "1   2011-02-28  25532\n",
       "2   2011-03-31  32275\n",
       "3   2011-04-30  21128\n",
       "4   2011-05-31  19554\n",
       "..         ...    ...\n",
       "139 2023-01-31  28970\n",
       "140 2023-02-28  27336\n",
       "141 2023-03-31  29471\n",
       "142 2023-04-30  21518\n",
       "143 2023-05-31  28178\n",
       "\n",
       "[144 rows x 2 columns]"
      ]
     },
     "execution_count": 60,
     "metadata": {},
     "output_type": "execute_result"
    }
   ],
   "source": [
    "df_prophet.columns = ['ds','y']\n",
    "df_prophet"
   ]
  },
  {
   "cell_type": "markdown",
   "id": "c048094d",
   "metadata": {
    "id": "c048094d"
   },
   "source": [
    "Train test split"
   ]
  },
  {
   "cell_type": "code",
   "execution_count": 61,
   "id": "68158b40",
   "metadata": {
    "id": "68158b40"
   },
   "outputs": [],
   "source": [
    "train = df_prophet[0:139]\n",
    "\n",
    "# i want test set are the information on 2023\n",
    "test = df_prophet[139:]"
   ]
  },
  {
   "cell_type": "code",
   "execution_count": 62,
   "id": "d24f88a6",
   "metadata": {
    "id": "d24f88a6",
    "outputId": "119859fc-497f-4bbc-ddc2-da021de3592f"
   },
   "outputs": [
    {
     "data": {
      "text/html": [
       "<div>\n",
       "<style scoped>\n",
       "    .dataframe tbody tr th:only-of-type {\n",
       "        vertical-align: middle;\n",
       "    }\n",
       "\n",
       "    .dataframe tbody tr th {\n",
       "        vertical-align: top;\n",
       "    }\n",
       "\n",
       "    .dataframe thead th {\n",
       "        text-align: right;\n",
       "    }\n",
       "</style>\n",
       "<table border=\"1\" class=\"dataframe\">\n",
       "  <thead>\n",
       "    <tr style=\"text-align: right;\">\n",
       "      <th></th>\n",
       "      <th>ds</th>\n",
       "      <th>y</th>\n",
       "    </tr>\n",
       "  </thead>\n",
       "  <tbody>\n",
       "    <tr>\n",
       "      <th>139</th>\n",
       "      <td>2023-01-31</td>\n",
       "      <td>28970</td>\n",
       "    </tr>\n",
       "    <tr>\n",
       "      <th>140</th>\n",
       "      <td>2023-02-28</td>\n",
       "      <td>27336</td>\n",
       "    </tr>\n",
       "    <tr>\n",
       "      <th>141</th>\n",
       "      <td>2023-03-31</td>\n",
       "      <td>29471</td>\n",
       "    </tr>\n",
       "    <tr>\n",
       "      <th>142</th>\n",
       "      <td>2023-04-30</td>\n",
       "      <td>21518</td>\n",
       "    </tr>\n",
       "    <tr>\n",
       "      <th>143</th>\n",
       "      <td>2023-05-31</td>\n",
       "      <td>28178</td>\n",
       "    </tr>\n",
       "  </tbody>\n",
       "</table>\n",
       "</div>"
      ],
      "text/plain": [
       "            ds      y\n",
       "139 2023-01-31  28970\n",
       "140 2023-02-28  27336\n",
       "141 2023-03-31  29471\n",
       "142 2023-04-30  21518\n",
       "143 2023-05-31  28178"
      ]
     },
     "execution_count": 62,
     "metadata": {},
     "output_type": "execute_result"
    }
   ],
   "source": [
    "test"
   ]
  },
  {
   "cell_type": "code",
   "execution_count": 63,
   "id": "cc51828e",
   "metadata": {
    "id": "cc51828e"
   },
   "outputs": [],
   "source": [
    "#!pip install prophet"
   ]
  },
  {
   "cell_type": "markdown",
   "id": "452a312a",
   "metadata": {
    "id": "452a312a"
   },
   "source": [
    "Prophet Architecture"
   ]
  },
  {
   "cell_type": "code",
   "execution_count": 64,
   "id": "c15c212a",
   "metadata": {
    "id": "c15c212a",
    "outputId": "f450a172-3506-4f9b-b35b-c81584e9dd71"
   },
   "outputs": [
    {
     "name": "stderr",
     "output_type": "stream",
     "text": [
      "20:35:37 - cmdstanpy - INFO - Chain [1] start processing\n",
      "20:35:37 - cmdstanpy - INFO - Chain [1] done processing\n"
     ]
    }
   ],
   "source": [
    "from prophet import Prophet\n",
    "\n",
    "m = Prophet(interval_width=0.95, daily_seasonality=True)\n",
    "model = m.fit(train)"
   ]
  },
  {
   "cell_type": "code",
   "execution_count": 65,
   "id": "3ec3e6e5",
   "metadata": {
    "id": "3ec3e6e5",
    "outputId": "a2605142-1920-4779-f242-55183cd1bcbb"
   },
   "outputs": [
    {
     "data": {
      "text/html": [
       "<div>\n",
       "<style scoped>\n",
       "    .dataframe tbody tr th:only-of-type {\n",
       "        vertical-align: middle;\n",
       "    }\n",
       "\n",
       "    .dataframe tbody tr th {\n",
       "        vertical-align: top;\n",
       "    }\n",
       "\n",
       "    .dataframe thead th {\n",
       "        text-align: right;\n",
       "    }\n",
       "</style>\n",
       "<table border=\"1\" class=\"dataframe\">\n",
       "  <thead>\n",
       "    <tr style=\"text-align: right;\">\n",
       "      <th></th>\n",
       "      <th>ds</th>\n",
       "      <th>trend</th>\n",
       "      <th>yhat_lower</th>\n",
       "      <th>yhat_upper</th>\n",
       "      <th>trend_lower</th>\n",
       "      <th>trend_upper</th>\n",
       "      <th>additive_terms</th>\n",
       "      <th>additive_terms_lower</th>\n",
       "      <th>additive_terms_upper</th>\n",
       "      <th>daily</th>\n",
       "      <th>daily_lower</th>\n",
       "      <th>daily_upper</th>\n",
       "      <th>yearly</th>\n",
       "      <th>yearly_lower</th>\n",
       "      <th>yearly_upper</th>\n",
       "      <th>multiplicative_terms</th>\n",
       "      <th>multiplicative_terms_lower</th>\n",
       "      <th>multiplicative_terms_upper</th>\n",
       "      <th>yhat</th>\n",
       "    </tr>\n",
       "  </thead>\n",
       "  <tbody>\n",
       "    <tr>\n",
       "      <th>0</th>\n",
       "      <td>2023-01-31</td>\n",
       "      <td>21490.464154</td>\n",
       "      <td>11252.766372</td>\n",
       "      <td>34348.400532</td>\n",
       "      <td>21490.128049</td>\n",
       "      <td>21490.796250</td>\n",
       "      <td>1702.910515</td>\n",
       "      <td>1702.910515</td>\n",
       "      <td>1702.910515</td>\n",
       "      <td>3990.42085</td>\n",
       "      <td>3990.42085</td>\n",
       "      <td>3990.42085</td>\n",
       "      <td>-2287.510335</td>\n",
       "      <td>-2287.510335</td>\n",
       "      <td>-2287.510335</td>\n",
       "      <td>0.0</td>\n",
       "      <td>0.0</td>\n",
       "      <td>0.0</td>\n",
       "      <td>23193.374669</td>\n",
       "    </tr>\n",
       "    <tr>\n",
       "      <th>1</th>\n",
       "      <td>2023-02-28</td>\n",
       "      <td>21442.706389</td>\n",
       "      <td>14095.258352</td>\n",
       "      <td>34962.459065</td>\n",
       "      <td>21441.659255</td>\n",
       "      <td>21443.702677</td>\n",
       "      <td>2890.397529</td>\n",
       "      <td>2890.397529</td>\n",
       "      <td>2890.397529</td>\n",
       "      <td>3990.42085</td>\n",
       "      <td>3990.42085</td>\n",
       "      <td>3990.42085</td>\n",
       "      <td>-1100.023321</td>\n",
       "      <td>-1100.023321</td>\n",
       "      <td>-1100.023321</td>\n",
       "      <td>0.0</td>\n",
       "      <td>0.0</td>\n",
       "      <td>0.0</td>\n",
       "      <td>24333.103919</td>\n",
       "    </tr>\n",
       "    <tr>\n",
       "      <th>2</th>\n",
       "      <td>2023-03-31</td>\n",
       "      <td>21389.831721</td>\n",
       "      <td>17406.481797</td>\n",
       "      <td>38340.972916</td>\n",
       "      <td>21388.056796</td>\n",
       "      <td>21391.857090</td>\n",
       "      <td>6955.293891</td>\n",
       "      <td>6955.293891</td>\n",
       "      <td>6955.293891</td>\n",
       "      <td>3990.42085</td>\n",
       "      <td>3990.42085</td>\n",
       "      <td>3990.42085</td>\n",
       "      <td>2964.873041</td>\n",
       "      <td>2964.873041</td>\n",
       "      <td>2964.873041</td>\n",
       "      <td>0.0</td>\n",
       "      <td>0.0</td>\n",
       "      <td>0.0</td>\n",
       "      <td>28345.125612</td>\n",
       "    </tr>\n",
       "    <tr>\n",
       "      <th>3</th>\n",
       "      <td>2023-04-30</td>\n",
       "      <td>21338.662688</td>\n",
       "      <td>15180.730227</td>\n",
       "      <td>37481.447860</td>\n",
       "      <td>21335.980852</td>\n",
       "      <td>21341.622525</td>\n",
       "      <td>5167.417267</td>\n",
       "      <td>5167.417267</td>\n",
       "      <td>5167.417267</td>\n",
       "      <td>3990.42085</td>\n",
       "      <td>3990.42085</td>\n",
       "      <td>3990.42085</td>\n",
       "      <td>1176.996417</td>\n",
       "      <td>1176.996417</td>\n",
       "      <td>1176.996417</td>\n",
       "      <td>0.0</td>\n",
       "      <td>0.0</td>\n",
       "      <td>0.0</td>\n",
       "      <td>26506.079955</td>\n",
       "    </tr>\n",
       "    <tr>\n",
       "      <th>4</th>\n",
       "      <td>2023-05-31</td>\n",
       "      <td>21285.788019</td>\n",
       "      <td>12021.364085</td>\n",
       "      <td>34012.880208</td>\n",
       "      <td>21281.963977</td>\n",
       "      <td>21289.799628</td>\n",
       "      <td>1545.747233</td>\n",
       "      <td>1545.747233</td>\n",
       "      <td>1545.747233</td>\n",
       "      <td>3990.42085</td>\n",
       "      <td>3990.42085</td>\n",
       "      <td>3990.42085</td>\n",
       "      <td>-2444.673617</td>\n",
       "      <td>-2444.673617</td>\n",
       "      <td>-2444.673617</td>\n",
       "      <td>0.0</td>\n",
       "      <td>0.0</td>\n",
       "      <td>0.0</td>\n",
       "      <td>22831.535252</td>\n",
       "    </tr>\n",
       "  </tbody>\n",
       "</table>\n",
       "</div>"
      ],
      "text/plain": [
       "          ds         trend    yhat_lower    yhat_upper   trend_lower  \\\n",
       "0 2023-01-31  21490.464154  11252.766372  34348.400532  21490.128049   \n",
       "1 2023-02-28  21442.706389  14095.258352  34962.459065  21441.659255   \n",
       "2 2023-03-31  21389.831721  17406.481797  38340.972916  21388.056796   \n",
       "3 2023-04-30  21338.662688  15180.730227  37481.447860  21335.980852   \n",
       "4 2023-05-31  21285.788019  12021.364085  34012.880208  21281.963977   \n",
       "\n",
       "    trend_upper  additive_terms  additive_terms_lower  additive_terms_upper  \\\n",
       "0  21490.796250     1702.910515           1702.910515           1702.910515   \n",
       "1  21443.702677     2890.397529           2890.397529           2890.397529   \n",
       "2  21391.857090     6955.293891           6955.293891           6955.293891   \n",
       "3  21341.622525     5167.417267           5167.417267           5167.417267   \n",
       "4  21289.799628     1545.747233           1545.747233           1545.747233   \n",
       "\n",
       "        daily  daily_lower  daily_upper       yearly  yearly_lower  \\\n",
       "0  3990.42085   3990.42085   3990.42085 -2287.510335  -2287.510335   \n",
       "1  3990.42085   3990.42085   3990.42085 -1100.023321  -1100.023321   \n",
       "2  3990.42085   3990.42085   3990.42085  2964.873041   2964.873041   \n",
       "3  3990.42085   3990.42085   3990.42085  1176.996417   1176.996417   \n",
       "4  3990.42085   3990.42085   3990.42085 -2444.673617  -2444.673617   \n",
       "\n",
       "   yearly_upper  multiplicative_terms  multiplicative_terms_lower  \\\n",
       "0  -2287.510335                   0.0                         0.0   \n",
       "1  -1100.023321                   0.0                         0.0   \n",
       "2   2964.873041                   0.0                         0.0   \n",
       "3   1176.996417                   0.0                         0.0   \n",
       "4  -2444.673617                   0.0                         0.0   \n",
       "\n",
       "   multiplicative_terms_upper          yhat  \n",
       "0                         0.0  23193.374669  \n",
       "1                         0.0  24333.103919  \n",
       "2                         0.0  28345.125612  \n",
       "3                         0.0  26506.079955  \n",
       "4                         0.0  22831.535252  "
      ]
     },
     "execution_count": 65,
     "metadata": {},
     "output_type": "execute_result"
    }
   ],
   "source": [
    "forecast_eval = m.predict(test)\n",
    "forecast_eval"
   ]
  },
  {
   "cell_type": "markdown",
   "id": "1876670a",
   "metadata": {
    "id": "1876670a"
   },
   "source": [
    "Evaluation"
   ]
  },
  {
   "cell_type": "code",
   "execution_count": 66,
   "id": "38fd02fc",
   "metadata": {
    "id": "38fd02fc",
    "outputId": "a09a6879-d47c-4c99-d596-139437bf2947"
   },
   "outputs": [
    {
     "data": {
      "text/plain": [
       "19424001.03169309"
      ]
     },
     "execution_count": 66,
     "metadata": {},
     "output_type": "execute_result"
    }
   ],
   "source": [
    "from sklearn.metrics import mean_squared_error\n",
    "\n",
    "mse_Prophet = mean_squared_error(test['y'],forecast_eval['yhat'])\n",
    "mse_Prophet"
   ]
  },
  {
   "cell_type": "markdown",
   "id": "196aa896",
   "metadata": {},
   "source": [
    "# Xgboost better that Prophet?"
   ]
  },
  {
   "cell_type": "code",
   "execution_count": 67,
   "id": "78ed74b3",
   "metadata": {},
   "outputs": [
    {
     "data": {
      "text/plain": [
       "True"
      ]
     },
     "execution_count": 67,
     "metadata": {},
     "output_type": "execute_result"
    }
   ],
   "source": [
    "mse_XgbReg > mse_Prophet"
   ]
  },
  {
   "cell_type": "markdown",
   "id": "70c5f300",
   "metadata": {},
   "source": [
    "since xgboost have bigger error indicates that prophet perform better"
   ]
  },
  {
   "cell_type": "markdown",
   "id": "6cf18d9d",
   "metadata": {
    "id": "6cf18d9d"
   },
   "source": [
    "# The prediction to this date of month (february 2024) using Prophet"
   ]
  },
  {
   "cell_type": "code",
   "execution_count": 68,
   "id": "93515b75",
   "metadata": {
    "id": "93515b75"
   },
   "outputs": [],
   "source": [
    "future = m.make_future_dataframe(periods=14,freq='M')\n",
    "forecast_1yearahead = m.predict(future)"
   ]
  },
  {
   "cell_type": "code",
   "execution_count": 69,
   "id": "5be32c0e",
   "metadata": {
    "id": "5be32c0e",
    "outputId": "0ec50b24-0b89-401a-e3df-6b8c11eb08fa"
   },
   "outputs": [
    {
     "data": {
      "image/png": "[encoded data removed]",
      "text/plain": [
       "<Figure size 640x480 with 1 Axes>"
      ]
     },
     "metadata": {},
     "output_type": "display_data"
    }
   ],
   "source": [
    "plt.plot(df_prophet['y'], label=['Actual'])\n",
    "plt.plot(forecast_1yearahead['yhat'], label=['Pred'])\n",
    "plt.legend()\n",
    "plt.show()"
   ]
  },
  {
   "cell_type": "code",
   "execution_count": 70,
   "id": "bb154137",
   "metadata": {
    "id": "bb154137",
    "outputId": "21e11dbf-17e9-4b52-a458-b2bff0672167"
   },
   "outputs": [
    {
     "data": {
      "text/html": [
       "<div>\n",
       "<style scoped>\n",
       "    .dataframe tbody tr th:only-of-type {\n",
       "        vertical-align: middle;\n",
       "    }\n",
       "\n",
       "    .dataframe tbody tr th {\n",
       "        vertical-align: top;\n",
       "    }\n",
       "\n",
       "    .dataframe thead th {\n",
       "        text-align: right;\n",
       "    }\n",
       "</style>\n",
       "<table border=\"1\" class=\"dataframe\">\n",
       "  <thead>\n",
       "    <tr style=\"text-align: right;\">\n",
       "      <th></th>\n",
       "      <th>yhat</th>\n",
       "    </tr>\n",
       "    <tr>\n",
       "      <th>ds</th>\n",
       "      <th></th>\n",
       "    </tr>\n",
       "  </thead>\n",
       "  <tbody>\n",
       "    <tr>\n",
       "      <th>2023-06-30</th>\n",
       "      <td>23179.249557</td>\n",
       "    </tr>\n",
       "    <tr>\n",
       "      <th>2023-07-31</th>\n",
       "      <td>24811.997868</td>\n",
       "    </tr>\n",
       "    <tr>\n",
       "      <th>2023-08-31</th>\n",
       "      <td>26064.342016</td>\n",
       "    </tr>\n",
       "    <tr>\n",
       "      <th>2023-09-30</th>\n",
       "      <td>27362.978174</td>\n",
       "    </tr>\n",
       "    <tr>\n",
       "      <th>2023-10-31</th>\n",
       "      <td>27185.264148</td>\n",
       "    </tr>\n",
       "    <tr>\n",
       "      <th>2023-11-30</th>\n",
       "      <td>25316.895563</td>\n",
       "    </tr>\n",
       "    <tr>\n",
       "      <th>2023-12-31</th>\n",
       "      <td>23518.767472</td>\n",
       "    </tr>\n",
       "    <tr>\n",
       "      <th>2024-01-31</th>\n",
       "      <td>22532.530748</td>\n",
       "    </tr>\n",
       "    <tr>\n",
       "      <th>2024-02-29</th>\n",
       "      <td>23367.545094</td>\n",
       "    </tr>\n",
       "  </tbody>\n",
       "</table>\n",
       "</div>"
      ],
      "text/plain": [
       "                    yhat\n",
       "ds                      \n",
       "2023-06-30  23179.249557\n",
       "2023-07-31  24811.997868\n",
       "2023-08-31  26064.342016\n",
       "2023-09-30  27362.978174\n",
       "2023-10-31  27185.264148\n",
       "2023-11-30  25316.895563\n",
       "2023-12-31  23518.767472\n",
       "2024-01-31  22532.530748\n",
       "2024-02-29  23367.545094"
      ]
     },
     "execution_count": 70,
     "metadata": {},
     "output_type": "execute_result"
    }
   ],
   "source": [
    "dummy = forecast_1yearahead[['yhat','ds']][144:].copy()\n",
    "dummy.index = dummy.pop('ds')\n",
    "dummy"
   ]
  },
  {
   "cell_type": "code",
   "execution_count": 76,
   "id": "e4a42d36",
   "metadata": {
    "id": "e4a42d36"
   },
   "outputs": [
    {
     "data": {
      "image/png": "[encoded data removed]",
      "text/plain": [
       "<Figure size 5100x900 with 1 Axes>"
      ]
     },
     "metadata": {},
     "output_type": "display_data"
    }
   ],
   "source": [
    "#the future predict plot\n",
    "plt.plot(dummy['yhat'])\n",
    "plt.xticks(rotation='vertical')\n",
    "plt.show()"
   ]
  }
 ],
 "metadata": {
  "colab": {
   "provenance": []
  },
  "kernelspec": {
   "display_name": "Python 3 (ipykernel)",
   "language": "python",
   "name": "python3"
  },
  "language_info": {
   "codemirror_mode": {
    "name": "ipython",
    "version": 3
   },
   "file_extension": ".py",
   "mimetype": "text/x-python",
   "name": "python",
   "nbconvert_exporter": "python",
   "pygments_lexer": "ipython3",
   "version": "3.9.16"
  }
 },
 "nbformat": 4,
 "nbformat_minor": 5
}
